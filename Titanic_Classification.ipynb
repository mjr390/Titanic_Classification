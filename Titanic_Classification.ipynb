{
 "cells": [
  {
   "cell_type": "code",
   "execution_count": 107,
   "metadata": {},
   "outputs": [],
   "source": [
    "import pandas as pd\n",
    "import numpy as np\n",
    "import matplotlib.pyplot as plt\n",
    "\n",
    "from sklearn.model_selection import train_test_split\n",
    "from sklearn import preprocessing\n",
    "\n",
    "import warnings\n",
    "warnings.filterwarnings('ignore')"
   ]
  },
  {
   "cell_type": "code",
   "execution_count": 12,
   "metadata": {},
   "outputs": [],
   "source": [
    "train_csv = pd.read_csv('train.csv')\n",
    "test_csv = pd.read_csv('test.csv')\n",
    "\n",
    "y = train_csv['Survived']\n",
    "train_csv_features = train_csv.drop(columns=['Survived'])\n",
    "\n",
    "X_train, X_cross, y_train, y_cross = train_test_split(train_csv_features, y, test_size=.15, random_state=42) "
   ]
  },
  {
   "cell_type": "code",
   "execution_count": null,
   "metadata": {},
   "outputs": [],
   "source": []
  },
  {
   "cell_type": "markdown",
   "metadata": {},
   "source": [
    "# EDA"
   ]
  },
  {
   "cell_type": "code",
   "execution_count": 13,
   "metadata": {},
   "outputs": [
    {
     "name": "stdout",
     "output_type": "stream",
     "text": [
      "<class 'pandas.core.frame.DataFrame'>\n",
      "Int64Index: 757 entries, 599 to 102\n",
      "Data columns (total 11 columns):\n",
      "PassengerId    757 non-null int64\n",
      "Pclass         757 non-null int64\n",
      "Name           757 non-null object\n",
      "Sex            757 non-null object\n",
      "Age            604 non-null float64\n",
      "SibSp          757 non-null int64\n",
      "Parch          757 non-null int64\n",
      "Ticket         757 non-null object\n",
      "Fare           757 non-null float64\n",
      "Cabin          166 non-null object\n",
      "Embarked       755 non-null object\n",
      "dtypes: float64(2), int64(4), object(5)\n",
      "memory usage: 71.0+ KB\n"
     ]
    }
   ],
   "source": [
    "X_train.info()"
   ]
  },
  {
   "cell_type": "code",
   "execution_count": 14,
   "metadata": {},
   "outputs": [
    {
     "data": {
      "text/html": [
       "<div>\n",
       "<style scoped>\n",
       "    .dataframe tbody tr th:only-of-type {\n",
       "        vertical-align: middle;\n",
       "    }\n",
       "\n",
       "    .dataframe tbody tr th {\n",
       "        vertical-align: top;\n",
       "    }\n",
       "\n",
       "    .dataframe thead th {\n",
       "        text-align: right;\n",
       "    }\n",
       "</style>\n",
       "<table border=\"1\" class=\"dataframe\">\n",
       "  <thead>\n",
       "    <tr style=\"text-align: right;\">\n",
       "      <th></th>\n",
       "      <th>PassengerId</th>\n",
       "      <th>Pclass</th>\n",
       "      <th>Age</th>\n",
       "      <th>SibSp</th>\n",
       "      <th>Parch</th>\n",
       "      <th>Fare</th>\n",
       "    </tr>\n",
       "  </thead>\n",
       "  <tbody>\n",
       "    <tr>\n",
       "      <th>count</th>\n",
       "      <td>757.000000</td>\n",
       "      <td>757.000000</td>\n",
       "      <td>604.000000</td>\n",
       "      <td>757.000000</td>\n",
       "      <td>757.000000</td>\n",
       "      <td>757.000000</td>\n",
       "    </tr>\n",
       "    <tr>\n",
       "      <th>mean</th>\n",
       "      <td>446.850727</td>\n",
       "      <td>2.331572</td>\n",
       "      <td>29.549404</td>\n",
       "      <td>0.540291</td>\n",
       "      <td>0.380449</td>\n",
       "      <td>32.188391</td>\n",
       "    </tr>\n",
       "    <tr>\n",
       "      <th>std</th>\n",
       "      <td>257.976800</td>\n",
       "      <td>0.822771</td>\n",
       "      <td>14.472253</td>\n",
       "      <td>1.147819</td>\n",
       "      <td>0.811973</td>\n",
       "      <td>50.913062</td>\n",
       "    </tr>\n",
       "    <tr>\n",
       "      <th>min</th>\n",
       "      <td>1.000000</td>\n",
       "      <td>1.000000</td>\n",
       "      <td>0.420000</td>\n",
       "      <td>0.000000</td>\n",
       "      <td>0.000000</td>\n",
       "      <td>0.000000</td>\n",
       "    </tr>\n",
       "    <tr>\n",
       "      <th>25%</th>\n",
       "      <td>223.000000</td>\n",
       "      <td>2.000000</td>\n",
       "      <td>21.000000</td>\n",
       "      <td>0.000000</td>\n",
       "      <td>0.000000</td>\n",
       "      <td>7.925000</td>\n",
       "    </tr>\n",
       "    <tr>\n",
       "      <th>50%</th>\n",
       "      <td>453.000000</td>\n",
       "      <td>3.000000</td>\n",
       "      <td>28.000000</td>\n",
       "      <td>0.000000</td>\n",
       "      <td>0.000000</td>\n",
       "      <td>14.454200</td>\n",
       "    </tr>\n",
       "    <tr>\n",
       "      <th>75%</th>\n",
       "      <td>668.000000</td>\n",
       "      <td>3.000000</td>\n",
       "      <td>38.000000</td>\n",
       "      <td>1.000000</td>\n",
       "      <td>0.000000</td>\n",
       "      <td>30.500000</td>\n",
       "    </tr>\n",
       "    <tr>\n",
       "      <th>max</th>\n",
       "      <td>891.000000</td>\n",
       "      <td>3.000000</td>\n",
       "      <td>80.000000</td>\n",
       "      <td>8.000000</td>\n",
       "      <td>6.000000</td>\n",
       "      <td>512.329200</td>\n",
       "    </tr>\n",
       "  </tbody>\n",
       "</table>\n",
       "</div>"
      ],
      "text/plain": [
       "       PassengerId      Pclass         Age       SibSp       Parch        Fare\n",
       "count   757.000000  757.000000  604.000000  757.000000  757.000000  757.000000\n",
       "mean    446.850727    2.331572   29.549404    0.540291    0.380449   32.188391\n",
       "std     257.976800    0.822771   14.472253    1.147819    0.811973   50.913062\n",
       "min       1.000000    1.000000    0.420000    0.000000    0.000000    0.000000\n",
       "25%     223.000000    2.000000   21.000000    0.000000    0.000000    7.925000\n",
       "50%     453.000000    3.000000   28.000000    0.000000    0.000000   14.454200\n",
       "75%     668.000000    3.000000   38.000000    1.000000    0.000000   30.500000\n",
       "max     891.000000    3.000000   80.000000    8.000000    6.000000  512.329200"
      ]
     },
     "execution_count": 14,
     "metadata": {},
     "output_type": "execute_result"
    }
   ],
   "source": [
    "X_train.describe()"
   ]
  },
  {
   "cell_type": "code",
   "execution_count": 85,
   "metadata": {},
   "outputs": [
    {
     "data": {
      "text/plain": [
       "Imputer(axis=0, copy=True, missing_values=nan, strategy='mean', verbose=0)"
      ]
     },
     "execution_count": 85,
     "metadata": {},
     "output_type": "execute_result"
    }
   ],
   "source": [
    "def fillInAgeNullls(df):\n",
    "    from sklearn.preprocessing import Imputer\n",
    "    imp_mean = Imputer(missing_values=np.nan, strategy='mean')\n",
    "    imp_mean.fit(df['Age'].values.reshape(-1,1))\n",
    "    return imp_mean\n",
    "ageFill = fillInAgeNullls(X_train)\n",
    "ageFill"
   ]
  },
  {
   "cell_type": "code",
   "execution_count": 157,
   "metadata": {},
   "outputs": [],
   "source": [
    "def cleandf(df):\n",
    "    df = df[['Pclass', 'Sex', 'Age', 'SibSp', 'Parch', 'Fare', 'Embarked']]\n",
    "    df['Age'] = ageFill.transform(df['Age'].values.reshape(-1,1))\n",
    "    norm_age = df['Age'] / np.sqrt(np.sum(df['Age']**2))\n",
    "    norm_SibSp = df['SibSp'] / np.sqrt(np.sum(df['SibSp']**2))\n",
    "    norm_Parch = df['Parch'] / np.sqrt(np.sum(df['Parch']**2))\n",
    "    norm_Fare = df['Fare'] / np.sqrt(np.sum(df['Fare']**2))\n",
    "    df['Age'] = norm_age\n",
    "    df['SibSp'] = norm_SibSp\n",
    "    df['Parch'] = norm_Parch\n",
    "    df['Fare'] = norm_Fare\n",
    "    classes = pd.get_dummies(df['Pclass'])\n",
    "    df = pd.get_dummies(df)\n",
    "    df = df.drop(columns=['Pclass'])\n",
    "    df = pd.merge(df, classes, left_index=True, right_index=True)\n",
    "    return df"
   ]
  },
  {
   "cell_type": "code",
   "execution_count": 159,
   "metadata": {},
   "outputs": [],
   "source": [
    "X_train_clean = cleandf(X_train)"
   ]
  },
  {
   "cell_type": "code",
   "execution_count": 177,
   "metadata": {},
   "outputs": [],
   "source": [
    "train_corr = pd.merge(X_train_clean, pd.DataFrame(y_train), left_index=True, right_index=True)"
   ]
  },
  {
   "cell_type": "code",
   "execution_count": 178,
   "metadata": {},
   "outputs": [
    {
     "data": {
      "text/plain": [
       "Age          -0.059088\n",
       "SibSp        -0.036872\n",
       "Parch         0.081230\n",
       "Fare          0.254007\n",
       "Sex_female    0.541528\n",
       "Sex_male     -0.541528\n",
       "Embarked_C    0.160526\n",
       "Embarked_Q   -0.005421\n",
       "Embarked_S   -0.143335\n",
       "1             0.273204\n",
       "2             0.104933\n",
       "3            -0.317234\n",
       "Survived      1.000000\n",
       "Name: Survived, dtype: float64"
      ]
     },
     "execution_count": 178,
     "metadata": {},
     "output_type": "execute_result"
    }
   ],
   "source": [
    "train_corr.corr()['Survived']"
   ]
  },
  {
   "cell_type": "markdown",
   "metadata": {},
   "source": [
    "# Logistic regression"
   ]
  },
  {
   "cell_type": "code",
   "execution_count": 179,
   "metadata": {},
   "outputs": [],
   "source": [
    "from sklearn.linear_model import LogisticRegression"
   ]
  },
  {
   "cell_type": "code",
   "execution_count": 180,
   "metadata": {},
   "outputs": [],
   "source": [
    "clf = LogisticRegression(random_state=0).fit(X_train_clean, y_train)"
   ]
  },
  {
   "cell_type": "code",
   "execution_count": 185,
   "metadata": {},
   "outputs": [
    {
     "data": {
      "text/plain": [
       "0.7820343461030383"
      ]
     },
     "execution_count": 185,
     "metadata": {},
     "output_type": "execute_result"
    }
   ],
   "source": [
    "clf.score(X_train_clean, y_train)"
   ]
  },
  {
   "cell_type": "code",
   "execution_count": 186,
   "metadata": {},
   "outputs": [],
   "source": [
    "X_cross_clean = cleandf(X_cross)"
   ]
  },
  {
   "cell_type": "code",
   "execution_count": 187,
   "metadata": {},
   "outputs": [
    {
     "data": {
      "text/plain": [
       "0.7985074626865671"
      ]
     },
     "execution_count": 187,
     "metadata": {},
     "output_type": "execute_result"
    }
   ],
   "source": [
    "clf.score(X_cross_clean, y_cross)"
   ]
  },
  {
   "cell_type": "code",
   "execution_count": 268,
   "metadata": {},
   "outputs": [],
   "source": [
    "#Recreate cleandf\n",
    "def cleandf(df):\n",
    "    df = df[['Pclass', 'Sex', 'Age', 'SibSp', 'Parch', 'Fare', 'Embarked']]\n",
    "    df['Age'] = ageFill.transform(df['Age'].values.reshape(-1,1))\n",
    "    df['Family'] = df['SibSp'] + df['Parch']\n",
    "    df.drop(columns=['SibSp', 'Parch'])\n",
    "    norm_age = df['Age'] / np.sqrt(np.sum(df['Age']**2))\n",
    "    norm_Fare = df['Fare'] / np.sqrt(np.sum(df['Fare']**2))\n",
    "    norm_Family = df['Family'] / np.sqrt(np.sum(df['Family']**2))  \n",
    "    df['Age'] = norm_age\n",
    "    df['Fare'] = norm_Fare\n",
    "    df['Family'] = norm_Family\n",
    "    classes = pd.get_dummies(df['Pclass'])\n",
    "    df = pd.get_dummies(df)\n",
    "    df = df.drop(columns=['Pclass','Sex_male'])\n",
    "    \n",
    "    df = pd.merge(df, classes, left_index=True, right_index=True)\n",
    "    df.rename(columns={list(df)[8]:'c1'}, inplace=True)\n",
    "    df.rename(columns={list(df)[9]:'c2'}, inplace=True)\n",
    "    df.rename(columns={list(df)[10]:'c3'}, inplace=True)\n",
    "    return df"
   ]
  },
  {
   "cell_type": "code",
   "execution_count": 269,
   "metadata": {},
   "outputs": [],
   "source": [
    "X_train_clean = cleandf(X_train)"
   ]
  },
  {
   "cell_type": "code",
   "execution_count": 270,
   "metadata": {},
   "outputs": [],
   "source": [
    "clf = LogisticRegression(random_state=0).fit(X_train_clean, y_train)"
   ]
  },
  {
   "cell_type": "code",
   "execution_count": 271,
   "metadata": {},
   "outputs": [
    {
     "data": {
      "text/plain": [
       "0.797886393659181"
      ]
     },
     "execution_count": 271,
     "metadata": {},
     "output_type": "execute_result"
    }
   ],
   "source": [
    "clf.score(X_train_clean, y_train)"
   ]
  },
  {
   "cell_type": "code",
   "execution_count": 272,
   "metadata": {},
   "outputs": [
    {
     "data": {
      "text/plain": [
       "0.7761194029850746"
      ]
     },
     "execution_count": 272,
     "metadata": {},
     "output_type": "execute_result"
    }
   ],
   "source": [
    "X_cross_clean = cleandf(X_cross)\n",
    "clf.score(X_cross_clean, y_cross)"
   ]
  },
  {
   "cell_type": "code",
   "execution_count": null,
   "metadata": {},
   "outputs": [],
   "source": []
  },
  {
   "cell_type": "markdown",
   "metadata": {},
   "source": [
    "# Not Normalized"
   ]
  },
  {
   "cell_type": "code",
   "execution_count": 309,
   "metadata": {},
   "outputs": [],
   "source": [
    "def cleandf_unNorm(df):\n",
    "    df = df[['Pclass', 'Sex', 'Age', 'SibSp', 'Parch', 'Fare', 'Embarked']]\n",
    "    df['Age'] = ageFill.transform(df['Age'].values.reshape(-1,1))\n",
    "    classes = pd.get_dummies(df['Pclass'])\n",
    "    df = pd.get_dummies(df)\n",
    "    df = df.drop(columns=['Pclass'])\n",
    "    df = df.drop(columns=['Sex_male'])\n",
    "    df['Family'] = df['SibSp'] + df['Parch']\n",
    "    df.drop(columns=['SibSp', 'Parch'])\n",
    "    df = pd.merge(df, classes, left_index=True, right_index=True)\n",
    "    df.rename(columns={list(df)[8]:'c1'}, inplace=True)\n",
    "    df.rename(columns={list(df)[9]:'c2'}, inplace=True)\n",
    "    df.rename(columns={list(df)[10]:'c3'}, inplace=True)\n",
    "    return df"
   ]
  },
  {
   "cell_type": "code",
   "execution_count": 310,
   "metadata": {},
   "outputs": [],
   "source": [
    "X_not_norm = cleandf_unNorm(X_train)"
   ]
  },
  {
   "cell_type": "code",
   "execution_count": 311,
   "metadata": {},
   "outputs": [],
   "source": [
    "clf = LogisticRegression(random_state=0).fit(X_not_norm, y_train)"
   ]
  },
  {
   "cell_type": "code",
   "execution_count": 312,
   "metadata": {},
   "outputs": [
    {
     "data": {
      "text/plain": [
       "0.809775429326288"
      ]
     },
     "execution_count": 312,
     "metadata": {},
     "output_type": "execute_result"
    }
   ],
   "source": [
    "clf.score(X_not_norm, y_train)"
   ]
  },
  {
   "cell_type": "code",
   "execution_count": 313,
   "metadata": {},
   "outputs": [
    {
     "data": {
      "text/plain": [
       "0.8059701492537313"
      ]
     },
     "execution_count": 313,
     "metadata": {},
     "output_type": "execute_result"
    }
   ],
   "source": [
    "X_cross_not = cleandf_unNorm(X_cross)\n",
    "clf.score(X_cross_not, y_cross)"
   ]
  },
  {
   "cell_type": "markdown",
   "metadata": {},
   "source": [
    "# The Test Data"
   ]
  },
  {
   "cell_type": "code",
   "execution_count": 329,
   "metadata": {},
   "outputs": [
    {
     "data": {
      "text/plain": [
       "Age           0\n",
       "SibSp         0\n",
       "Parch         0\n",
       "Fare          1\n",
       "Family        0\n",
       "Sex_female    0\n",
       "Embarked_C    0\n",
       "Embarked_Q    0\n",
       "c1            0\n",
       "c2            0\n",
       "c3            0\n",
       "3             0\n",
       "dtype: int64"
      ]
     },
     "execution_count": 329,
     "metadata": {},
     "output_type": "execute_result"
    }
   ],
   "source": [
    "test = cleandf(test_csv)\n",
    "test.isnull().sum()"
   ]
  },
  {
   "cell_type": "code",
   "execution_count": 330,
   "metadata": {},
   "outputs": [
    {
     "data": {
      "text/plain": [
       "Age           0\n",
       "SibSp         0\n",
       "Parch         0\n",
       "Fare          0\n",
       "Family        0\n",
       "Sex_female    0\n",
       "Embarked_C    0\n",
       "Embarked_Q    0\n",
       "c1            0\n",
       "c2            0\n",
       "c3            0\n",
       "3             0\n",
       "dtype: int64"
      ]
     },
     "execution_count": 330,
     "metadata": {},
     "output_type": "execute_result"
    }
   ],
   "source": [
    "#Find the class for the null\n",
    "test[pd.isnull(test).any(axis=1)]\n",
    "#get the average for that class\n",
    "avg_test_Fare = np.mean(test.loc[test['c3'] == 1, 'Fare'])\n",
    "test['Fare'] = test['Fare'].fillna(value=avg_test_Fare)\n",
    "test.isnull().sum()"
   ]
  },
  {
   "cell_type": "code",
   "execution_count": 331,
   "metadata": {},
   "outputs": [],
   "source": [
    "predictions = clf.predict(test)"
   ]
  },
  {
   "cell_type": "markdown",
   "metadata": {},
   "source": [
    "# CSV Creation"
   ]
  },
  {
   "cell_type": "code",
   "execution_count": 326,
   "metadata": {},
   "outputs": [],
   "source": [
    "def create_output(predict):\n",
    "    output = pd.DataFrame({'PassengerId': test_csv.PassengerId, 'Survived': predict})\n",
    "    output.to_csv('my_submission.csv', index=False)"
   ]
  },
  {
   "cell_type": "markdown",
   "metadata": {},
   "source": [
    "# SGDC"
   ]
  },
  {
   "cell_type": "code",
   "execution_count": 317,
   "metadata": {},
   "outputs": [
    {
     "data": {
      "text/plain": [
       "0.4701492537313433"
      ]
     },
     "execution_count": 317,
     "metadata": {},
     "output_type": "execute_result"
    }
   ],
   "source": [
    "from sklearn.linear_model import SGDClassifier\n",
    "sgd_clf = SGDClassifier(random_state = 0)\n",
    "sgd_clf.fit(X_not_norm, y_train)\n",
    "sgd_clf.score(X_cross_not, y_cross)"
   ]
  },
  {
   "cell_type": "code",
   "execution_count": 318,
   "metadata": {},
   "outputs": [
    {
     "data": {
      "text/plain": [
       "KNeighborsClassifier(algorithm='auto', leaf_size=30, metric='minkowski',\n",
       "           metric_params=None, n_jobs=1, n_neighbors=5, p=2,\n",
       "           weights='uniform')"
      ]
     },
     "execution_count": 318,
     "metadata": {},
     "output_type": "execute_result"
    }
   ],
   "source": [
    "from sklearn.neighbors import KNeighborsClassifier\n",
    "knn_clf = KNeighborsClassifier()\n",
    "knn_clf.fit(X_train_clean, y_train)"
   ]
  },
  {
   "cell_type": "code",
   "execution_count": 319,
   "metadata": {},
   "outputs": [
    {
     "data": {
      "text/plain": [
       "0.857331571994716"
      ]
     },
     "execution_count": 319,
     "metadata": {},
     "output_type": "execute_result"
    }
   ],
   "source": [
    "knn_clf.score(X_train_clean, y_train)"
   ]
  },
  {
   "cell_type": "code",
   "execution_count": 320,
   "metadata": {},
   "outputs": [
    {
     "data": {
      "text/plain": [
       "0.7985074626865671"
      ]
     },
     "execution_count": 320,
     "metadata": {},
     "output_type": "execute_result"
    }
   ],
   "source": [
    "knn_clf.score(X_cross_clean, y_cross)"
   ]
  },
  {
   "cell_type": "code",
   "execution_count": 332,
   "metadata": {},
   "outputs": [],
   "source": [
    "knn_predictions = knn_clf.predict(test)"
   ]
  },
  {
   "cell_type": "code",
   "execution_count": 333,
   "metadata": {},
   "outputs": [],
   "source": [
    "create_output(knn_predictions)"
   ]
  },
  {
   "cell_type": "markdown",
   "metadata": {},
   "source": [
    "# Grid Search KNN"
   ]
  },
  {
   "cell_type": "code",
   "execution_count": 342,
   "metadata": {},
   "outputs": [
    {
     "name": "stdout",
     "output_type": "stream",
     "text": [
      "Fitting 3 folds for each of 16 candidates, totalling 48 fits\n"
     ]
    },
    {
     "name": "stderr",
     "output_type": "stream",
     "text": [
      "[Parallel(n_jobs=1)]: Done  48 out of  48 | elapsed:    0.5s finished\n"
     ]
    }
   ],
   "source": [
    "from sklearn.model_selection import GridSearchCV\n",
    "grid_params = {\n",
    "    'n_neighbors': [13, 15, 21, 31],\n",
    "    'weights': ['uniform', 'distance'],\n",
    "    'metric': ['euclidean', 'manhattan']\n",
    "}\n",
    "\n",
    "gs = GridSearchCV(\n",
    "    KNeighborsClassifier(),\n",
    "    grid_params,\n",
    "    verbose=1,\n",
    "    cv=3 \n",
    "    )\n",
    "\n",
    "gs_results = gs.fit(X_train_clean, y_train)"
   ]
  },
  {
   "cell_type": "code",
   "execution_count": 343,
   "metadata": {},
   "outputs": [
    {
     "name": "stdout",
     "output_type": "stream",
     "text": [
      "{'metric': 'euclidean', 'n_neighbors': 15, 'weights': 'uniform'}\n"
     ]
    },
    {
     "data": {
      "text/plain": [
       "0.7965653896961691"
      ]
     },
     "execution_count": 343,
     "metadata": {},
     "output_type": "execute_result"
    }
   ],
   "source": [
    "print(gs_results.best_params_)\n",
    "gs_results.best_score_"
   ]
  },
  {
   "cell_type": "code",
   "execution_count": null,
   "metadata": {},
   "outputs": [],
   "source": []
  }
 ],
 "metadata": {
  "kernelspec": {
   "display_name": "Python 3",
   "language": "python",
   "name": "python3"
  },
  "language_info": {
   "codemirror_mode": {
    "name": "ipython",
    "version": 3
   },
   "file_extension": ".py",
   "mimetype": "text/x-python",
   "name": "python",
   "nbconvert_exporter": "python",
   "pygments_lexer": "ipython3",
   "version": "3.6.5"
  }
 },
 "nbformat": 4,
 "nbformat_minor": 2
}
